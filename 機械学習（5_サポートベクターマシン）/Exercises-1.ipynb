{
 "cells": [
  {
   "cell_type": "code",
   "execution_count": 23,
   "metadata": {},
   "outputs": [
    {
     "data": {
      "text/html": [
       "<div>\n",
       "<style scoped>\n",
       "    .dataframe tbody tr th:only-of-type {\n",
       "        vertical-align: middle;\n",
       "    }\n",
       "\n",
       "    .dataframe tbody tr th {\n",
       "        vertical-align: top;\n",
       "    }\n",
       "\n",
       "    .dataframe thead th {\n",
       "        text-align: right;\n",
       "    }\n",
       "</style>\n",
       "<table border=\"1\" class=\"dataframe\">\n",
       "  <thead>\n",
       "    <tr style=\"text-align: right;\">\n",
       "      <th></th>\n",
       "      <th>sepal length (cm)</th>\n",
       "      <th>sepal width (cm)</th>\n",
       "      <th>petal length (cm)</th>\n",
       "      <th>petal width (cm)</th>\n",
       "      <th>class</th>\n",
       "    </tr>\n",
       "  </thead>\n",
       "  <tbody>\n",
       "    <tr>\n",
       "      <th>0</th>\n",
       "      <td>5.1</td>\n",
       "      <td>3.5</td>\n",
       "      <td>1.4</td>\n",
       "      <td>0.2</td>\n",
       "      <td>0</td>\n",
       "    </tr>\n",
       "    <tr>\n",
       "      <th>1</th>\n",
       "      <td>4.9</td>\n",
       "      <td>3.0</td>\n",
       "      <td>1.4</td>\n",
       "      <td>0.2</td>\n",
       "      <td>0</td>\n",
       "    </tr>\n",
       "    <tr>\n",
       "      <th>2</th>\n",
       "      <td>4.7</td>\n",
       "      <td>3.2</td>\n",
       "      <td>1.3</td>\n",
       "      <td>0.2</td>\n",
       "      <td>0</td>\n",
       "    </tr>\n",
       "    <tr>\n",
       "      <th>3</th>\n",
       "      <td>4.6</td>\n",
       "      <td>3.1</td>\n",
       "      <td>1.5</td>\n",
       "      <td>0.2</td>\n",
       "      <td>0</td>\n",
       "    </tr>\n",
       "    <tr>\n",
       "      <th>4</th>\n",
       "      <td>5.0</td>\n",
       "      <td>3.6</td>\n",
       "      <td>1.4</td>\n",
       "      <td>0.2</td>\n",
       "      <td>0</td>\n",
       "    </tr>\n",
       "    <tr>\n",
       "      <th>...</th>\n",
       "      <td>...</td>\n",
       "      <td>...</td>\n",
       "      <td>...</td>\n",
       "      <td>...</td>\n",
       "      <td>...</td>\n",
       "    </tr>\n",
       "    <tr>\n",
       "      <th>145</th>\n",
       "      <td>6.7</td>\n",
       "      <td>3.0</td>\n",
       "      <td>5.2</td>\n",
       "      <td>2.3</td>\n",
       "      <td>2</td>\n",
       "    </tr>\n",
       "    <tr>\n",
       "      <th>146</th>\n",
       "      <td>6.3</td>\n",
       "      <td>2.5</td>\n",
       "      <td>5.0</td>\n",
       "      <td>1.9</td>\n",
       "      <td>2</td>\n",
       "    </tr>\n",
       "    <tr>\n",
       "      <th>147</th>\n",
       "      <td>6.5</td>\n",
       "      <td>3.0</td>\n",
       "      <td>5.2</td>\n",
       "      <td>2.0</td>\n",
       "      <td>2</td>\n",
       "    </tr>\n",
       "    <tr>\n",
       "      <th>148</th>\n",
       "      <td>6.2</td>\n",
       "      <td>3.4</td>\n",
       "      <td>5.4</td>\n",
       "      <td>2.3</td>\n",
       "      <td>2</td>\n",
       "    </tr>\n",
       "    <tr>\n",
       "      <th>149</th>\n",
       "      <td>5.9</td>\n",
       "      <td>3.0</td>\n",
       "      <td>5.1</td>\n",
       "      <td>1.8</td>\n",
       "      <td>2</td>\n",
       "    </tr>\n",
       "  </tbody>\n",
       "</table>\n",
       "<p>150 rows × 5 columns</p>\n",
       "</div>"
      ],
      "text/plain": [
       "     sepal length (cm)  sepal width (cm)  petal length (cm)  petal width (cm)  \\\n",
       "0                  5.1               3.5                1.4               0.2   \n",
       "1                  4.9               3.0                1.4               0.2   \n",
       "2                  4.7               3.2                1.3               0.2   \n",
       "3                  4.6               3.1                1.5               0.2   \n",
       "4                  5.0               3.6                1.4               0.2   \n",
       "..                 ...               ...                ...               ...   \n",
       "145                6.7               3.0                5.2               2.3   \n",
       "146                6.3               2.5                5.0               1.9   \n",
       "147                6.5               3.0                5.2               2.0   \n",
       "148                6.2               3.4                5.4               2.3   \n",
       "149                5.9               3.0                5.1               1.8   \n",
       "\n",
       "     class  \n",
       "0        0  \n",
       "1        0  \n",
       "2        0  \n",
       "3        0  \n",
       "4        0  \n",
       "..     ...  \n",
       "145      2  \n",
       "146      2  \n",
       "147      2  \n",
       "148      2  \n",
       "149      2  \n",
       "\n",
       "[150 rows x 5 columns]"
      ]
     },
     "execution_count": 23,
     "metadata": {},
     "output_type": "execute_result"
    }
   ],
   "source": [
    "# 準備\n",
    "import pandas as pd\n",
    "from sklearn.model_selection import train_test_split\n",
    "from sklearn.svm import LinearSVC\n",
    "from sklearn.datasets import load_iris\n",
    "import mglearn\n",
    "import matplotlib.pyplot as plt\n",
    "from matplotlib.font_manager import FontProperties as fp\n",
    "\n",
    "# matplotlib用ラベル日本語化設定\n",
    "JP = fp(fname=r\"C:\\WINDOWS\\Fonts\\BIZ-UDGothicR.ttc\", size=14)\n",
    "JPFONT = {\"family\": \"BIZ UDGothic\"}\n",
    "\n",
    "# irisデータ読み込み\n",
    "iris = load_iris()\n",
    "data = pd.DataFrame(iris.data, columns=iris.feature_names)\n",
    "data[\"class\"] = iris.target\n",
    "data\n",
    "\n",
    "# sepal length (cm) 萼片の長さ\n",
    "# sepal width (cm)  萼片の幅\n",
    "# petal length (cm) 花弁の長さ\n",
    "# petal width (cm)  花弁の幅\n",
    "# setosa            セトサ\n",
    "# versicolor        バーシカラー\n",
    "# virginica         バージニア\n"
   ]
  },
  {
   "cell_type": "code",
   "execution_count": 58,
   "metadata": {},
   "outputs": [
    {
     "data": {
      "image/png": "[encoded data removed]",
      "text/plain": [
       "<Figure size 432x288 with 1 Axes>"
      ]
     },
     "metadata": {
      "needs_background": "light"
     },
     "output_type": "display_data"
    }
   ],
   "source": [
    "# グラフ表示用にデータを加工\n",
    "temp_se = data[data[\"class\"] == 0]  # setosa\n",
    "temp_ve = data[data[\"class\"] == 1]  # versicolor\n",
    "temp_vi = data[data[\"class\"] == 2]  # virginica\n",
    "\n",
    "# データを散布図としてプロット\n",
    "fig, ax = plt.subplots()\n",
    "ax.scatter(x=temp_se[\"petal length (cm)\"],\n",
    "           y=temp_se[\"petal width (cm)\"], marker='o', label=\"setosa\")\n",
    "ax.scatter(x=temp_ve[\"petal length (cm)\"],\n",
    "           y=temp_ve[\"petal width (cm)\"], marker='^', label=\"versicolor\")\n",
    "# ax.scatter(x=temp_vi[\"petal length (cm)\"],\n",
    "#           y=temp_vi[\"petal width (cm)\"], marker='+', label=\"virginica\")\n",
    "ax.set_xlabel('花弁の長さ(cm)', fontproperties=JP)\n",
    "ax.set_ylabel('花弁の幅(cm)', fontproperties=JP)\n",
    "\n",
    "# 決定境界をプロット\n",
    "#ax.plot(X_train_scaled, X_train_scaled * a + b)\n",
    "ax.legend(prop=JPFONT)  # 汎用ラベル表示\n",
    "plt.show()\n"
   ]
  },
  {
   "cell_type": "code",
   "execution_count": 86,
   "metadata": {},
   "outputs": [],
   "source": [
    "# 0:setosa, 1:versicolor を抽出\n",
    "X = data.loc[data[\"class\"].isin([0, 1]), \"petal length (cm)\":\"petal width (cm)\"]\n",
    "Y = data.loc[data[\"class\"].isin([0, 1]), \"class\"]\n"
   ]
  },
  {
   "cell_type": "code",
   "execution_count": 102,
   "metadata": {},
   "outputs": [
    {
     "name": "stdout",
     "output_type": "stream",
     "text": [
      "LinearSVC()\n",
      "係数 =  [[0.59833181 0.80858975]]\n",
      "切片 =  [-2.06129087]\n",
      "y = x * -0.7399695766805664 + 2.549241898923535\n"
     ]
    }
   ],
   "source": [
    "# 学習用とテスト用でデータを分離してモデル化を実施\n",
    "X_train, X_test, Y_train, Y_test = train_test_split(\n",
    "    X, Y, stratify=Y, random_state=0)\n",
    "svm = LinearSVC()\n",
    "svm.fit(X_train, Y_train)\n",
    "print(svm)\n",
    "print(\"係数 = \", svm.coef_)\n",
    "print(\"切片 = \", svm.intercept_)\n",
    "a = -svm.coef_[0][0]/svm.coef_[0][1]\n",
    "b = -svm.intercept_[0]/svm.coef_[0][1]\n",
    "print(f\"y = x * {a} + {b}\")\n"
   ]
  },
  {
   "cell_type": "code",
   "execution_count": 105,
   "metadata": {},
   "outputs": [
    {
     "data": {
      "image/png": "[encoded data removed]",
      "text/plain": [
       "<Figure size 432x288 with 1 Axes>"
      ]
     },
     "metadata": {
      "needs_background": "light"
     },
     "output_type": "display_data"
    }
   ],
   "source": [
    "# 境界線を付記\n",
    "fig, ax = plt.subplots()\n",
    "ax.set_xlabel('花弁の長さ(cm)', fontproperties=JP)\n",
    "ax.set_ylabel('花弁の幅(cm)', fontproperties=JP)\n",
    "\n",
    "ax.scatter(x=temp_se[\"petal length (cm)\"],\n",
    "           y=temp_se[\"petal width (cm)\"], marker='o', label=\"setosa\")\n",
    "ax.scatter(x=temp_ve[\"petal length (cm)\"],\n",
    "           y=temp_ve[\"petal width (cm)\"], marker='^', label=\"versicolor\")\n",
    "\n",
    "# 決定境界をプロット\n",
    "# mglearn.plots.plot_2d_separator(svm, X)\n",
    "ax.plot(X_train, X_train * a + b)\n",
    "ax.legend(prop=JPFONT)  # 汎用ラベル表示\n",
    "plt.show()\n"
   ]
  }
 ],
 "metadata": {
  "interpreter": {
   "hash": "9b94ef867fa8523618fc05d5b49b5e1288419dec809ff3455a091414db8e7f21"
  },
  "kernelspec": {
   "display_name": "Python 3.9.7 64-bit ('j01': conda)",
   "language": "python",
   "name": "python3"
  },
  "language_info": {
   "codemirror_mode": {
    "name": "ipython",
    "version": 3
   },
   "file_extension": ".py",
   "mimetype": "text/x-python",
   "name": "python",
   "nbconvert_exporter": "python",
   "pygments_lexer": "ipython3",
   "version": "3.9.7"
  },
  "orig_nbformat": 4
 },
 "nbformat": 4,
 "nbformat_minor": 2
}
